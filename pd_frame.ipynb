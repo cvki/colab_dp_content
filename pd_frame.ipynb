{
  "nbformat": 4,
  "nbformat_minor": 0,
  "metadata": {
    "colab": {
      "name": "pd_frame.ipynb",
      "provenance": [],
      "collapsed_sections": [],
      "authorship_tag": "ABX9TyM4zs4C06xvVUV2Iu5OHsxJ",
      "include_colab_link": true
    },
    "kernelspec": {
      "name": "python3",
      "display_name": "Python 3"
    },
    "language_info": {
      "name": "python"
    }
  },
  "cells": [
    {
      "cell_type": "markdown",
      "metadata": {
        "id": "view-in-github",
        "colab_type": "text"
      },
      "source": [
        "<a href=\"https://colab.research.google.com/github/cvki/colab_dp_content/blob/pandas/pd_frame.ipynb\" target=\"_parent\"><img src=\"https://colab.research.google.com/assets/colab-badge.svg\" alt=\"Open In Colab\"/></a>"
      ]
    },
    {
      "cell_type": "markdown",
      "source": [
        "Task 1 **(begin at line 31)**: Create a DataFrame\n",
        "Do the following:\n",
        "\n",
        "Create an 3x4 (3 rows x 4 columns) pandas DataFrame in which the columns are named Eleanor, Chidi, Tahani, and Jason. Populate each of the 12 cells in the DataFrame with a random integer between 0 and 100, inclusive.\n",
        "\n",
        "Output the following:\n",
        "\n",
        "the entire DataFrame\n",
        "the value in the cell of row #1 of the Eleanor column\n",
        "Create a fifth column named Janet, which is populated with the row-by-row sums of Tahani and Jason.\n",
        "\n",
        "Copying a DataFrame: **(begin at line 42)** (optional)\n",
        "Pandas provides two different ways to duplicate a DataFrame:\n",
        "\n",
        "Referencing. If you assign a DataFrame to a new variable, any change to the DataFrame or to the new variable will be reflected in the other.\n",
        "Copying. If you call the pd.DataFrame.copy method, you create a true independent copy. Changes to the original DataFrame or to the copy will not be reflected in the other.\n",
        "The difference is subtle, but important."
      ],
      "metadata": {
        "id": "UzGhv0RSnUTL"
      }
    },
    {
      "cell_type": "code",
      "execution_count": null,
      "metadata": {
        "colab": {
          "base_uri": "https://localhost:8080/"
        },
        "id": "tlTNWr-BmifP",
        "outputId": "3da91b9f-129d-462a-db1d-7904b9b5299a"
      },
      "outputs": [
        {
          "output_type": "stream",
          "name": "stdout",
          "text": [
            "   temperature  activity\n",
            "0            0         3\n",
            "1           10         7\n",
            "2           20         9\n",
            "3           30        14\n",
            "4           40        15\n",
            "Rows #0, #1, and #2:\n",
            "   temperature  activity\n",
            "0            0         3\n",
            "1           10         7\n",
            "2           20         9 \n",
            "\n",
            "Row #2:\n",
            "   temperature  activity\n",
            "2           20         9 \n",
            "\n",
            "Rows #1, #2, and #3:\n",
            "   temperature  activity\n",
            "1           10         7\n",
            "2           20         9\n",
            "3           30        14 \n",
            "\n",
            "Column 'temperature':\n",
            "0     0\n",
            "1    10\n",
            "2    20\n",
            "3    30\n",
            "4    40\n",
            "Name: temperature, dtype: int64\n",
            "   Eleanor  Chidi  Tahai  Jason\n",
            "0       19     86     12     66\n",
            "1        6     21     30     56\n",
            "2       98     99     42     30\n",
            "the value in the cell of row #1 of the Eleanor column:  6\n",
            "   Eleanor  Chidi  Tahai  Jason  Janet\n",
            "0       19     86     12     66     78\n",
            "1        6     21     30     56     86\n",
            "2       98     99     42     30     72\n",
            "Experiment with a reference:\n",
            "  Starting value of my_dataframe: 56\n",
            "  Starting value of reference_to_my_dataframe: 56\n",
            "\n",
            "  Updated my_dataframe: 61\n",
            "  Updated reference_to_my_dataframe: 61\n",
            "\n",
            "\n",
            "Experiment with a true copy:\n",
            "  Starting value of my_dataframe: 61\n",
            "  Starting value of copy_of_my_dataframe: 61\n",
            "\n",
            "  Updated my_dataframe: 64\n",
            "  copy_of_my_dataframe does not get updated: 61\n",
            "/content\n"
          ]
        }
      ],
      "source": [
        "#pd_frame1\n",
        "\n",
        "import numpy as np\n",
        "import pandas as pd\n",
        "from pandas.core.frame import DataFrame\n",
        "\n",
        "\n",
        "# Create and populate a 5x2 NumPy array.\n",
        "my_data = np.array([[0, 3], [10, 7], [20, 9], [30, 14], [40, 15]])\n",
        "# Create a Python list that holds the names of the two columns.\n",
        "my_column_names = ['temperature', 'activity']\n",
        "# Create a DataFrame.\n",
        "my_dataframe = pd.DataFrame(data=my_data, columns=my_column_names)\n",
        "# Print the entire DataFrame\n",
        "print(my_dataframe)\n",
        "\n",
        "\n",
        "print(\"Rows #0, #1, and #2:\")\n",
        "print(my_dataframe.head(3), '\\n')\n",
        "print(\"Row #2:\")\n",
        "print(my_dataframe.iloc[[2]], '\\n')\n",
        "print(\"Rows #1, #2, and #3:\")\n",
        "print(my_dataframe[1:4], '\\n')\n",
        "print(\"Column 'temperature':\")\n",
        "print(my_dataframe['temperature'])\n",
        "\n",
        "\n",
        "# Write your code here.\n",
        "my_clo_names=[\"Eleanor\",\"Chidi\",\"Tahai\",\"Jason\"]\n",
        "my_clo_datas=np.random.randint(0,101,(3,4)) #类型必须是(x,4),因为clonames有四个\n",
        "#DataFrame中的clomuns形参名不能少，否则会报错\n",
        "my_dataframe=DataFrame(my_clo_datas,columns=my_clo_names) \n",
        "print(my_dataframe)\n",
        "print(\"the value in the cell of row #1 of the Eleanor column: \",my_dataframe[\"Eleanor\"][1])\n",
        "my_dataframe[\"Janet\"]=my_dataframe[\"Tahai\"]+my_dataframe[\"Jason\"]\n",
        "print(my_dataframe)\n",
        "\n",
        "\n",
        "#light_copy and deep_copy\n",
        "# Create a reference by assigning my_dataframe to a new variable.\n",
        "print(\"Experiment with a reference:\")\n",
        "reference_to_my_dataframe = my_dataframe\n",
        "# Print the starting value of a particular cell.\n",
        "print(\"  Starting value of my_dataframe: %d\" % my_dataframe['Jason'][1])\n",
        "print(\"  Starting value of reference_to_my_dataframe: %d\\n\" % reference_to_my_dataframe['Jason'][1])\n",
        "# Modify a cell in my_dataframe.\n",
        "my_dataframe.at[1, 'Jason'] = my_dataframe['Jason'][1] + 5\n",
        "print(\"  Updated my_dataframe: %d\" % my_dataframe['Jason'][1])\n",
        "print(\"  Updated reference_to_my_dataframe: %d\\n\\n\" % reference_to_my_dataframe['Jason'][1])\n",
        "# Create a true copy of my_dataframe\n",
        "print(\"Experiment with a true copy:\")\n",
        "copy_of_my_dataframe = my_dataframe.copy()\n",
        "# Print the starting value of a particular cell.\n",
        "print(\"  Starting value of my_dataframe: %d\" % my_dataframe['Jason'][1])\n",
        "print(\"  Starting value of copy_of_my_dataframe: %d\\n\" % copy_of_my_dataframe['Jason'][1])\n",
        "# Modify a cell in my_dataframe.\n",
        "my_dataframe.at[1, 'Jason'] = my_dataframe['Jason'][1] + 3\n",
        "print(\"  Updated my_dataframe: %d\" % my_dataframe['Jason'][1])\n",
        "print(\"  copy_of_my_dataframe does not get updated: %d\" % copy_of_my_dataframe['Jason'][1])\n"
      ]
    },
    {
      "cell_type": "code",
      "source": [
        "# #download the file\n",
        "\n",
        "#use \"!\" at begin as linux command\n",
        "!cd ..\n",
        "\n",
        "from google.colab import files\n",
        "files.download(\"pd_frame.ipynb\")\n"
      ],
      "metadata": {
        "colab": {
          "base_uri": "https://localhost:8080/",
          "height": 317
        },
        "id": "YxNPLlb4u09H",
        "outputId": "d2181a1f-9648-4e09-8f8f-9fcb8b4d66b4"
      },
      "execution_count": null,
      "outputs": [
        {
          "output_type": "error",
          "ename": "FileNotFoundError",
          "evalue": "ignored",
          "traceback": [
            "\u001b[0;31m---------------------------------------------------------------------------\u001b[0m",
            "\u001b[0;31mFileNotFoundError\u001b[0m                         Traceback (most recent call last)",
            "\u001b[0;32m<ipython-input-11-beb62994fd57>\u001b[0m in \u001b[0;36m<module>\u001b[0;34m()\u001b[0m\n\u001b[1;32m      5\u001b[0m \u001b[0;34m\u001b[0m\u001b[0m\n\u001b[1;32m      6\u001b[0m \u001b[0;32mfrom\u001b[0m \u001b[0mgoogle\u001b[0m\u001b[0;34m.\u001b[0m\u001b[0mcolab\u001b[0m \u001b[0;32mimport\u001b[0m \u001b[0mfiles\u001b[0m\u001b[0;34m\u001b[0m\u001b[0;34m\u001b[0m\u001b[0m\n\u001b[0;32m----> 7\u001b[0;31m \u001b[0mfiles\u001b[0m\u001b[0;34m.\u001b[0m\u001b[0mdownload\u001b[0m\u001b[0;34m(\u001b[0m\u001b[0;34m\"pd_frame.ipynb\"\u001b[0m\u001b[0;34m)\u001b[0m\u001b[0;34m\u001b[0m\u001b[0;34m\u001b[0m\u001b[0m\n\u001b[0m",
            "\u001b[0;32m/usr/local/lib/python3.7/dist-packages/google/colab/files.py\u001b[0m in \u001b[0;36mdownload\u001b[0;34m(filename)\u001b[0m\n\u001b[1;32m    140\u001b[0m       \u001b[0;32mraise\u001b[0m \u001b[0mOSError\u001b[0m\u001b[0;34m(\u001b[0m\u001b[0mmsg\u001b[0m\u001b[0;34m)\u001b[0m\u001b[0;34m\u001b[0m\u001b[0;34m\u001b[0m\u001b[0m\n\u001b[1;32m    141\u001b[0m     \u001b[0;32melse\u001b[0m\u001b[0;34m:\u001b[0m\u001b[0;34m\u001b[0m\u001b[0;34m\u001b[0m\u001b[0m\n\u001b[0;32m--> 142\u001b[0;31m       \u001b[0;32mraise\u001b[0m \u001b[0mFileNotFoundError\u001b[0m\u001b[0;34m(\u001b[0m\u001b[0mmsg\u001b[0m\u001b[0;34m)\u001b[0m  \u001b[0;31m# pylint: disable=undefined-variable\u001b[0m\u001b[0;34m\u001b[0m\u001b[0;34m\u001b[0m\u001b[0m\n\u001b[0m\u001b[1;32m    143\u001b[0m \u001b[0;34m\u001b[0m\u001b[0m\n\u001b[1;32m    144\u001b[0m   \u001b[0mcomm_manager\u001b[0m \u001b[0;34m=\u001b[0m \u001b[0m_IPython\u001b[0m\u001b[0;34m.\u001b[0m\u001b[0mget_ipython\u001b[0m\u001b[0;34m(\u001b[0m\u001b[0;34m)\u001b[0m\u001b[0;34m.\u001b[0m\u001b[0mkernel\u001b[0m\u001b[0;34m.\u001b[0m\u001b[0mcomm_manager\u001b[0m\u001b[0;34m\u001b[0m\u001b[0;34m\u001b[0m\u001b[0m\n",
            "\u001b[0;31mFileNotFoundError\u001b[0m: Cannot find file: pd_frame.ipynb"
          ]
        }
      ]
    }
  ]
}